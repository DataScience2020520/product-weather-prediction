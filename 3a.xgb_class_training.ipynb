{
 "cells": [
  {
   "cell_type": "markdown",
   "metadata": {},
   "source": [
    "The notebook is to use and try the xgb class trainning model"
   ]
  },
  {
   "cell_type": "code",
   "execution_count": 1,
   "metadata": {},
   "outputs": [],
   "source": [
    "# DictVectorizer\n",
    "from sklearn.feature_extraction import DictVectorizer\n",
    "\n",
    "# XGB\n",
    "import xgboost as xgb\n",
    "\n",
    "# cross_val_score\n",
    "from sklearn.model_selection import cross_val_score\n",
    "\n",
    "# Import pandas\n",
    "import pandas as pd\n",
    "\n",
    "\n",
    "from sklearn.compose import make_column_transformer\n",
    "from sklearn.preprocessing import OneHotEncoder\n",
    "from sklearn.linear_model import LogisticRegression\n",
    "from sklearn.pipeline import make_pipeline\n",
    "from sklearn.model_selection import cross_val_score\n",
    "\n",
    "from pyspark.sql.functions import desc,asc, monotonically_increasing_id, split, size, length\n",
    "\n",
    "# Plot AUC *(Self Defined Package)\n",
    "from sklearn.metrics import roc_curve, auc, roc_auc_score"
   ]
  },
  {
   "cell_type": "code",
   "execution_count": 2,
   "metadata": {},
   "outputs": [],
   "source": [
    "%run /Users/p0z00cx/jupter/product_weather_prediction/lib/production_utility.ipynb"
   ]
  },
  {
   "cell_type": "code",
   "execution_count": 3,
   "metadata": {},
   "outputs": [],
   "source": [
    "%run /Users/p0z00cx/jupter/product_weather_prediction/lib/roc_auc.ipynb"
   ]
  },
  {
   "cell_type": "code",
   "execution_count": 4,
   "metadata": {},
   "outputs": [
    {
     "data": {
      "text/html": [
       "<div>\n",
       "<style scoped>\n",
       "    .dataframe tbody tr th:only-of-type {\n",
       "        vertical-align: middle;\n",
       "    }\n",
       "\n",
       "    .dataframe tbody tr th {\n",
       "        vertical-align: top;\n",
       "    }\n",
       "\n",
       "    .dataframe thead th {\n",
       "        text-align: right;\n",
       "    }\n",
       "</style>\n",
       "<table border=\"1\" class=\"dataframe\">\n",
       "  <thead>\n",
       "    <tr style=\"text-align: right;\">\n",
       "      <th></th>\n",
       "      <th>item_desc</th>\n",
       "      <th>dept_desc</th>\n",
       "      <th>state</th>\n",
       "      <th>region</th>\n",
       "      <th>inspected_result</th>\n",
       "      <th>dc_name</th>\n",
       "      <th>prcp_aver</th>\n",
       "      <th>tavg</th>\n",
       "      <th>result</th>\n",
       "    </tr>\n",
       "  </thead>\n",
       "  <tbody>\n",
       "    <tr>\n",
       "      <td>0</td>\n",
       "      <td>BLACKBERRY 12OZ</td>\n",
       "      <td>BLACKBERRIES</td>\n",
       "      <td>California</td>\n",
       "      <td>Watsonville</td>\n",
       "      <td>rejected</td>\n",
       "      <td>PAULS VALLEY, OK GDC</td>\n",
       "      <td>0.0</td>\n",
       "      <td>70.000000</td>\n",
       "      <td>0</td>\n",
       "    </tr>\n",
       "    <tr>\n",
       "      <td>1</td>\n",
       "      <td>BLACKBERRY 12OZ</td>\n",
       "      <td>BLACKBERRIES</td>\n",
       "      <td>California</td>\n",
       "      <td>Oxnard</td>\n",
       "      <td>accepted</td>\n",
       "      <td>CLARKSVILLE, AR GDC</td>\n",
       "      <td>0.0</td>\n",
       "      <td>70.000000</td>\n",
       "      <td>1</td>\n",
       "    </tr>\n",
       "    <tr>\n",
       "      <td>2</td>\n",
       "      <td>STRAWBERRY 2#</td>\n",
       "      <td>STRAWBERRIES</td>\n",
       "      <td>Michoacan</td>\n",
       "      <td>Zamora</td>\n",
       "      <td>aminus</td>\n",
       "      <td>AUBURN, IN GDC</td>\n",
       "      <td>0.0</td>\n",
       "      <td>70.000000</td>\n",
       "      <td>1</td>\n",
       "    </tr>\n",
       "    <tr>\n",
       "      <td>3</td>\n",
       "      <td>STRAWBERRY 2#</td>\n",
       "      <td>STRAWBERRIES</td>\n",
       "      <td>California</td>\n",
       "      <td>Santa Maria</td>\n",
       "      <td>accepted</td>\n",
       "      <td>COLTON, CA FRESH</td>\n",
       "      <td>0.0</td>\n",
       "      <td>70.000000</td>\n",
       "      <td>1</td>\n",
       "    </tr>\n",
       "    <tr>\n",
       "      <td>4</td>\n",
       "      <td>APPLE FUJI 3# 8</td>\n",
       "      <td>APPLES</td>\n",
       "      <td>Pennsylvania</td>\n",
       "      <td>South Central</td>\n",
       "      <td>accepted</td>\n",
       "      <td>BEDFORD, PA GDC</td>\n",
       "      <td>0.0</td>\n",
       "      <td>156.473684</td>\n",
       "      <td>1</td>\n",
       "    </tr>\n",
       "    <tr>\n",
       "      <td>...</td>\n",
       "      <td>...</td>\n",
       "      <td>...</td>\n",
       "      <td>...</td>\n",
       "      <td>...</td>\n",
       "      <td>...</td>\n",
       "      <td>...</td>\n",
       "      <td>...</td>\n",
       "      <td>...</td>\n",
       "      <td>...</td>\n",
       "    </tr>\n",
       "    <tr>\n",
       "      <td>26165</td>\n",
       "      <td>AVO HASS 72 MX LGS</td>\n",
       "      <td>AVOCADOS</td>\n",
       "      <td>Michoacan</td>\n",
       "      <td>Uruapan</td>\n",
       "      <td>accepted</td>\n",
       "      <td>BEDFORD, PA GDC</td>\n",
       "      <td>0.0</td>\n",
       "      <td>70.000000</td>\n",
       "      <td>1</td>\n",
       "    </tr>\n",
       "    <tr>\n",
       "      <td>26166</td>\n",
       "      <td>STRAWBERRY 1# SB</td>\n",
       "      <td>STRAWBERRIES</td>\n",
       "      <td>None</td>\n",
       "      <td>None</td>\n",
       "      <td>aminus</td>\n",
       "      <td>NEW ALBANY, MS GDC</td>\n",
       "      <td>0.0</td>\n",
       "      <td>70.000000</td>\n",
       "      <td>1</td>\n",
       "    </tr>\n",
       "    <tr>\n",
       "      <td>26167</td>\n",
       "      <td>STRAWBERRY 2# SB</td>\n",
       "      <td>STRAWBERRIES</td>\n",
       "      <td>None</td>\n",
       "      <td>None</td>\n",
       "      <td>aminus</td>\n",
       "      <td>MANKATO, MN GDC</td>\n",
       "      <td>0.0</td>\n",
       "      <td>70.000000</td>\n",
       "      <td>1</td>\n",
       "    </tr>\n",
       "    <tr>\n",
       "      <td>26168</td>\n",
       "      <td>PMPKN BIN 40 IHP</td>\n",
       "      <td>PUMPKINS SEASONAL</td>\n",
       "      <td>None</td>\n",
       "      <td>None</td>\n",
       "      <td>aminus</td>\n",
       "      <td>BRUNDIDGE, AL GDC</td>\n",
       "      <td>0.0</td>\n",
       "      <td>70.000000</td>\n",
       "      <td>1</td>\n",
       "    </tr>\n",
       "    <tr>\n",
       "      <td>26169</td>\n",
       "      <td>BLUEBERRY 18OZ</td>\n",
       "      <td>BLUEBERRIES</td>\n",
       "      <td>Florida</td>\n",
       "      <td>central</td>\n",
       "      <td>accepted</td>\n",
       "      <td>ARCADIA, FL GDC</td>\n",
       "      <td>0.0</td>\n",
       "      <td>70.000000</td>\n",
       "      <td>1</td>\n",
       "    </tr>\n",
       "  </tbody>\n",
       "</table>\n",
       "<p>26170 rows × 9 columns</p>\n",
       "</div>"
      ],
      "text/plain": [
       "                item_desc          dept_desc         state         region  \\\n",
       "0         BLACKBERRY 12OZ       BLACKBERRIES    California    Watsonville   \n",
       "1         BLACKBERRY 12OZ       BLACKBERRIES    California         Oxnard   \n",
       "2           STRAWBERRY 2#       STRAWBERRIES     Michoacan         Zamora   \n",
       "3           STRAWBERRY 2#       STRAWBERRIES    California    Santa Maria   \n",
       "4         APPLE FUJI 3# 8             APPLES  Pennsylvania  South Central   \n",
       "...                   ...                ...           ...            ...   \n",
       "26165  AVO HASS 72 MX LGS           AVOCADOS     Michoacan        Uruapan   \n",
       "26166    STRAWBERRY 1# SB       STRAWBERRIES          None           None   \n",
       "26167    STRAWBERRY 2# SB       STRAWBERRIES          None           None   \n",
       "26168    PMPKN BIN 40 IHP  PUMPKINS SEASONAL          None           None   \n",
       "26169      BLUEBERRY 18OZ        BLUEBERRIES       Florida        central   \n",
       "\n",
       "      inspected_result               dc_name  prcp_aver        tavg  result  \n",
       "0             rejected  PAULS VALLEY, OK GDC        0.0   70.000000       0  \n",
       "1             accepted   CLARKSVILLE, AR GDC        0.0   70.000000       1  \n",
       "2               aminus        AUBURN, IN GDC        0.0   70.000000       1  \n",
       "3             accepted      COLTON, CA FRESH        0.0   70.000000       1  \n",
       "4             accepted       BEDFORD, PA GDC        0.0  156.473684       1  \n",
       "...                ...                   ...        ...         ...     ...  \n",
       "26165         accepted       BEDFORD, PA GDC        0.0   70.000000       1  \n",
       "26166           aminus    NEW ALBANY, MS GDC        0.0   70.000000       1  \n",
       "26167           aminus       MANKATO, MN GDC        0.0   70.000000       1  \n",
       "26168           aminus     BRUNDIDGE, AL GDC        0.0   70.000000       1  \n",
       "26169         accepted       ARCADIA, FL GDC        0.0   70.000000       1  \n",
       "\n",
       "[26170 rows x 9 columns]"
      ]
     },
     "metadata": {},
     "output_type": "display_data"
    }
   ],
   "source": [
    "test_data_set = spark.read.csv('/Users/p0z00cx/hactron_product/test_data_set.csv', header=\"true\", inferSchema=\"true\")\n",
    "display(test_data_set.toPandas())"
   ]
  },
  {
   "cell_type": "markdown",
   "metadata": {},
   "source": [
    "## Feature engineering"
   ]
  },
  {
   "cell_type": "markdown",
   "metadata": {},
   "source": [
    "#### Department Desciption"
   ]
  },
  {
   "cell_type": "code",
   "execution_count": 5,
   "metadata": {},
   "outputs": [
    {
     "data": {
      "image/png": "[encoded data removed]",
      "text/plain": [
       "<Figure size 432x288 with 1 Axes>"
      ]
     },
     "metadata": {
      "needs_background": "light"
     },
     "output_type": "display_data"
    },
    {
     "name": "stdout",
     "output_type": "stream",
     "text": [
      "12\n"
     ]
    }
   ],
   "source": [
    "plot, n = varianceplot_nvalue(\"dept_desc\", test_data_set )\n",
    "print(n)"
   ]
  },
  {
   "cell_type": "code",
   "execution_count": 6,
   "metadata": {},
   "outputs": [
    {
     "data": {
      "text/plain": [
       "['STRAWBERRIES',\n",
       " 'APPLES',\n",
       " 'RASPBERRIES',\n",
       " 'ORG MIXED BERRIES',\n",
       " 'LIMES',\n",
       " 'BLUEBERRIES',\n",
       " 'BLACKBERRIES',\n",
       " 'PEARS',\n",
       " 'STRAWBERRIES ORGANIC',\n",
       " 'TOMATO ROMAS',\n",
       " 'AVOCADOS',\n",
       " 'TOMATO SMALLS']"
      ]
     },
     "metadata": {},
     "output_type": "display_data"
    }
   ],
   "source": [
    "final_values = get_n_values(12, \"dept_desc\", test_data_set)\n",
    "display(final_values)"
   ]
  },
  {
   "cell_type": "code",
   "execution_count": 7,
   "metadata": {},
   "outputs": [
    {
     "data": {
      "image/png": "[encoded data removed]",
      "text/plain": [
       "<Figure size 432x288 with 1 Axes>"
      ]
     },
     "metadata": {
      "needs_background": "light"
     },
     "output_type": "display_data"
    },
    {
     "data": {
      "text/plain": [
       "None"
      ]
     },
     "metadata": {},
     "output_type": "display_data"
    }
   ],
   "source": [
    "test_data_set = test_data_set.withColumn('dept_desc_new', udf(lambda x: new_col_values(x))(\"dept_desc\"))\n",
    "plot, n = varianceplot_nvalue(\"dept_desc_new\", test_data_set )\n",
    "display(plot)"
   ]
  },
  {
   "cell_type": "markdown",
   "metadata": {},
   "source": [
    "### dc name"
   ]
  },
  {
   "cell_type": "code",
   "execution_count": 8,
   "metadata": {},
   "outputs": [
    {
     "data": {
      "image/png": "[encoded data removed]",
      "text/plain": [
       "<Figure size 432x288 with 1 Axes>"
      ]
     },
     "metadata": {
      "needs_background": "light"
     },
     "output_type": "display_data"
    },
    {
     "data": {
      "text/plain": [
       "None"
      ]
     },
     "metadata": {},
     "output_type": "display_data"
    }
   ],
   "source": [
    "plot, n = varianceplot_nvalue(\"dc_name\", test_data_set )\n",
    "display(plot)"
   ]
  },
  {
   "cell_type": "markdown",
   "metadata": {},
   "source": [
    "### product source table"
   ]
  },
  {
   "cell_type": "code",
   "execution_count": 9,
   "metadata": {},
   "outputs": [
    {
     "data": {
      "image/png": "[encoded data removed]",
      "text/plain": [
       "<Figure size 432x288 with 1 Axes>"
      ]
     },
     "metadata": {
      "needs_background": "light"
     },
     "output_type": "display_data"
    },
    {
     "data": {
      "text/plain": [
       "None"
      ]
     },
     "metadata": {},
     "output_type": "display_data"
    }
   ],
   "source": [
    "plot, n = varianceplot_nvalue(\"state\", test_data_set )\n",
    "display(plot)"
   ]
  },
  {
   "cell_type": "code",
   "execution_count": 10,
   "metadata": {},
   "outputs": [],
   "source": [
    "final_values = get_n_values(26, \"state\", test_data_set)\n",
    "test_data_set = test_data_set.withColumn('state_new', udf(lambda x: new_col_values(x))(\"state\"))"
   ]
  },
  {
   "cell_type": "code",
   "execution_count": 11,
   "metadata": {},
   "outputs": [
    {
     "data": {
      "text/html": [
       "<div>\n",
       "<style scoped>\n",
       "    .dataframe tbody tr th:only-of-type {\n",
       "        vertical-align: middle;\n",
       "    }\n",
       "\n",
       "    .dataframe tbody tr th {\n",
       "        vertical-align: top;\n",
       "    }\n",
       "\n",
       "    .dataframe thead th {\n",
       "        text-align: right;\n",
       "    }\n",
       "</style>\n",
       "<table border=\"1\" class=\"dataframe\">\n",
       "  <thead>\n",
       "    <tr style=\"text-align: right;\">\n",
       "      <th></th>\n",
       "      <th>item_desc</th>\n",
       "      <th>dept_desc</th>\n",
       "      <th>state</th>\n",
       "      <th>region</th>\n",
       "      <th>inspected_result</th>\n",
       "      <th>dc_name</th>\n",
       "      <th>prcp_aver</th>\n",
       "      <th>tavg</th>\n",
       "      <th>result</th>\n",
       "      <th>dept_desc_new</th>\n",
       "      <th>state_new</th>\n",
       "    </tr>\n",
       "  </thead>\n",
       "  <tbody>\n",
       "    <tr>\n",
       "      <td>0</td>\n",
       "      <td>BLACKBERRY 12OZ</td>\n",
       "      <td>BLACKBERRIES</td>\n",
       "      <td>California</td>\n",
       "      <td>Watsonville</td>\n",
       "      <td>rejected</td>\n",
       "      <td>PAULS VALLEY, OK GDC</td>\n",
       "      <td>0.0</td>\n",
       "      <td>70.000000</td>\n",
       "      <td>0</td>\n",
       "      <td>BLACKBERRIES</td>\n",
       "      <td>California</td>\n",
       "    </tr>\n",
       "    <tr>\n",
       "      <td>1</td>\n",
       "      <td>BLACKBERRY 12OZ</td>\n",
       "      <td>BLACKBERRIES</td>\n",
       "      <td>California</td>\n",
       "      <td>Oxnard</td>\n",
       "      <td>accepted</td>\n",
       "      <td>CLARKSVILLE, AR GDC</td>\n",
       "      <td>0.0</td>\n",
       "      <td>70.000000</td>\n",
       "      <td>1</td>\n",
       "      <td>BLACKBERRIES</td>\n",
       "      <td>California</td>\n",
       "    </tr>\n",
       "    <tr>\n",
       "      <td>2</td>\n",
       "      <td>STRAWBERRY 2#</td>\n",
       "      <td>STRAWBERRIES</td>\n",
       "      <td>Michoacan</td>\n",
       "      <td>Zamora</td>\n",
       "      <td>aminus</td>\n",
       "      <td>AUBURN, IN GDC</td>\n",
       "      <td>0.0</td>\n",
       "      <td>70.000000</td>\n",
       "      <td>1</td>\n",
       "      <td>STRAWBERRIES</td>\n",
       "      <td>Michoacan</td>\n",
       "    </tr>\n",
       "    <tr>\n",
       "      <td>3</td>\n",
       "      <td>STRAWBERRY 2#</td>\n",
       "      <td>STRAWBERRIES</td>\n",
       "      <td>California</td>\n",
       "      <td>Santa Maria</td>\n",
       "      <td>accepted</td>\n",
       "      <td>COLTON, CA FRESH</td>\n",
       "      <td>0.0</td>\n",
       "      <td>70.000000</td>\n",
       "      <td>1</td>\n",
       "      <td>STRAWBERRIES</td>\n",
       "      <td>California</td>\n",
       "    </tr>\n",
       "    <tr>\n",
       "      <td>4</td>\n",
       "      <td>APPLE FUJI 3# 8</td>\n",
       "      <td>APPLES</td>\n",
       "      <td>Pennsylvania</td>\n",
       "      <td>South Central</td>\n",
       "      <td>accepted</td>\n",
       "      <td>BEDFORD, PA GDC</td>\n",
       "      <td>0.0</td>\n",
       "      <td>156.473684</td>\n",
       "      <td>1</td>\n",
       "      <td>APPLES</td>\n",
       "      <td>Pennsylvania</td>\n",
       "    </tr>\n",
       "    <tr>\n",
       "      <td>...</td>\n",
       "      <td>...</td>\n",
       "      <td>...</td>\n",
       "      <td>...</td>\n",
       "      <td>...</td>\n",
       "      <td>...</td>\n",
       "      <td>...</td>\n",
       "      <td>...</td>\n",
       "      <td>...</td>\n",
       "      <td>...</td>\n",
       "      <td>...</td>\n",
       "      <td>...</td>\n",
       "    </tr>\n",
       "    <tr>\n",
       "      <td>26165</td>\n",
       "      <td>AVO HASS 72 MX LGS</td>\n",
       "      <td>AVOCADOS</td>\n",
       "      <td>Michoacan</td>\n",
       "      <td>Uruapan</td>\n",
       "      <td>accepted</td>\n",
       "      <td>BEDFORD, PA GDC</td>\n",
       "      <td>0.0</td>\n",
       "      <td>70.000000</td>\n",
       "      <td>1</td>\n",
       "      <td>AVOCADOS</td>\n",
       "      <td>Michoacan</td>\n",
       "    </tr>\n",
       "    <tr>\n",
       "      <td>26166</td>\n",
       "      <td>STRAWBERRY 1# SB</td>\n",
       "      <td>STRAWBERRIES</td>\n",
       "      <td>None</td>\n",
       "      <td>None</td>\n",
       "      <td>aminus</td>\n",
       "      <td>NEW ALBANY, MS GDC</td>\n",
       "      <td>0.0</td>\n",
       "      <td>70.000000</td>\n",
       "      <td>1</td>\n",
       "      <td>STRAWBERRIES</td>\n",
       "      <td></td>\n",
       "    </tr>\n",
       "    <tr>\n",
       "      <td>26167</td>\n",
       "      <td>STRAWBERRY 2# SB</td>\n",
       "      <td>STRAWBERRIES</td>\n",
       "      <td>None</td>\n",
       "      <td>None</td>\n",
       "      <td>aminus</td>\n",
       "      <td>MANKATO, MN GDC</td>\n",
       "      <td>0.0</td>\n",
       "      <td>70.000000</td>\n",
       "      <td>1</td>\n",
       "      <td>STRAWBERRIES</td>\n",
       "      <td></td>\n",
       "    </tr>\n",
       "    <tr>\n",
       "      <td>26168</td>\n",
       "      <td>PMPKN BIN 40 IHP</td>\n",
       "      <td>PUMPKINS SEASONAL</td>\n",
       "      <td>None</td>\n",
       "      <td>None</td>\n",
       "      <td>aminus</td>\n",
       "      <td>BRUNDIDGE, AL GDC</td>\n",
       "      <td>0.0</td>\n",
       "      <td>70.000000</td>\n",
       "      <td>1</td>\n",
       "      <td></td>\n",
       "      <td></td>\n",
       "    </tr>\n",
       "    <tr>\n",
       "      <td>26169</td>\n",
       "      <td>BLUEBERRY 18OZ</td>\n",
       "      <td>BLUEBERRIES</td>\n",
       "      <td>Florida</td>\n",
       "      <td>central</td>\n",
       "      <td>accepted</td>\n",
       "      <td>ARCADIA, FL GDC</td>\n",
       "      <td>0.0</td>\n",
       "      <td>70.000000</td>\n",
       "      <td>1</td>\n",
       "      <td>BLUEBERRIES</td>\n",
       "      <td>Florida</td>\n",
       "    </tr>\n",
       "  </tbody>\n",
       "</table>\n",
       "<p>26170 rows × 11 columns</p>\n",
       "</div>"
      ],
      "text/plain": [
       "                item_desc          dept_desc         state         region  \\\n",
       "0         BLACKBERRY 12OZ       BLACKBERRIES    California    Watsonville   \n",
       "1         BLACKBERRY 12OZ       BLACKBERRIES    California         Oxnard   \n",
       "2           STRAWBERRY 2#       STRAWBERRIES     Michoacan         Zamora   \n",
       "3           STRAWBERRY 2#       STRAWBERRIES    California    Santa Maria   \n",
       "4         APPLE FUJI 3# 8             APPLES  Pennsylvania  South Central   \n",
       "...                   ...                ...           ...            ...   \n",
       "26165  AVO HASS 72 MX LGS           AVOCADOS     Michoacan        Uruapan   \n",
       "26166    STRAWBERRY 1# SB       STRAWBERRIES          None           None   \n",
       "26167    STRAWBERRY 2# SB       STRAWBERRIES          None           None   \n",
       "26168    PMPKN BIN 40 IHP  PUMPKINS SEASONAL          None           None   \n",
       "26169      BLUEBERRY 18OZ        BLUEBERRIES       Florida        central   \n",
       "\n",
       "      inspected_result               dc_name  prcp_aver        tavg  result  \\\n",
       "0             rejected  PAULS VALLEY, OK GDC        0.0   70.000000       0   \n",
       "1             accepted   CLARKSVILLE, AR GDC        0.0   70.000000       1   \n",
       "2               aminus        AUBURN, IN GDC        0.0   70.000000       1   \n",
       "3             accepted      COLTON, CA FRESH        0.0   70.000000       1   \n",
       "4             accepted       BEDFORD, PA GDC        0.0  156.473684       1   \n",
       "...                ...                   ...        ...         ...     ...   \n",
       "26165         accepted       BEDFORD, PA GDC        0.0   70.000000       1   \n",
       "26166           aminus    NEW ALBANY, MS GDC        0.0   70.000000       1   \n",
       "26167           aminus       MANKATO, MN GDC        0.0   70.000000       1   \n",
       "26168           aminus     BRUNDIDGE, AL GDC        0.0   70.000000       1   \n",
       "26169         accepted       ARCADIA, FL GDC        0.0   70.000000       1   \n",
       "\n",
       "      dept_desc_new     state_new  \n",
       "0      BLACKBERRIES    California  \n",
       "1      BLACKBERRIES    California  \n",
       "2      STRAWBERRIES     Michoacan  \n",
       "3      STRAWBERRIES    California  \n",
       "4            APPLES  Pennsylvania  \n",
       "...             ...           ...  \n",
       "26165      AVOCADOS     Michoacan  \n",
       "26166  STRAWBERRIES                \n",
       "26167  STRAWBERRIES                \n",
       "26168                              \n",
       "26169   BLUEBERRIES       Florida  \n",
       "\n",
       "[26170 rows x 11 columns]"
      ]
     },
     "metadata": {},
     "output_type": "display_data"
    }
   ],
   "source": [
    "display(test_data_set.toPandas())"
   ]
  },
  {
   "cell_type": "code",
   "execution_count": 12,
   "metadata": {},
   "outputs": [
    {
     "data": {
      "text/plain": [
       "item_desc        0\n",
       "dc_name          0\n",
       "prcp_aver        0\n",
       "tavg             0\n",
       "result           0\n",
       "dept_desc_new    0\n",
       "state_new        0\n",
       "dtype: int64"
      ]
     },
     "execution_count": 12,
     "metadata": {},
     "output_type": "execute_result"
    }
   ],
   "source": [
    "test_data_set = test_data_set.drop(\"inspected_result\").drop(\"dept_desc\").drop(\"state\").drop(\"region\")\n",
    "df = test_data_set.toPandas()\n",
    "df.isna().sum()"
   ]
  },
  {
   "cell_type": "code",
   "execution_count": 13,
   "metadata": {},
   "outputs": [],
   "source": [
    "X= df.loc[:,['dept_desc_new','state_new','dc_name','prcp_aver','tavg']]\n",
    "Y = df.result"
   ]
  },
  {
   "cell_type": "code",
   "execution_count": 14,
   "metadata": {},
   "outputs": [],
   "source": [
    "column_trans = make_column_transformer(\n",
    "    (OneHotEncoder(), ['dept_desc_new', 'state_new', 'dc_name']),\n",
    "    remainder= 'passthrough'\n",
    ")"
   ]
  },
  {
   "cell_type": "code",
   "execution_count": 15,
   "metadata": {},
   "outputs": [],
   "source": [
    "logreg= LogisticRegression(solver='lbfgs',max_iter=7600)\n",
    "pipe_logreg = make_pipeline(column_trans, logreg)"
   ]
  },
  {
   "cell_type": "code",
   "execution_count": 16,
   "metadata": {},
   "outputs": [
    {
     "data": {
      "text/plain": [
       "0.8286206493751536"
      ]
     },
     "execution_count": 16,
     "metadata": {},
     "output_type": "execute_result"
    }
   ],
   "source": [
    "cross_val_score(pipe_logreg,X,Y,cv=3,scoring='accuracy').mean()"
   ]
  },
  {
   "cell_type": "code",
   "execution_count": 17,
   "metadata": {},
   "outputs": [],
   "source": [
    "test_data_set.toPandas().to_csv('/Users/p0z00cx/hactron_product/test_data_set_final.csv', header=\"true\", index=None)"
   ]
  },
  {
   "cell_type": "code",
   "execution_count": null,
   "metadata": {},
   "outputs": [],
   "source": []
  }
 ],
 "metadata": {
  "kernelspec": {
   "display_name": "Python 3",
   "language": "python",
   "name": "python3"
  },
  "language_info": {
   "codemirror_mode": {
    "name": "ipython",
    "version": 3
   },
   "file_extension": ".py",
   "mimetype": "text/x-python",
   "name": "python",
   "nbconvert_exporter": "python",
   "pygments_lexer": "ipython3",
   "version": "3.7.4"
  }
 },
 "nbformat": 4,
 "nbformat_minor": 2
}
