{
 "cells": [
  {
   "cell_type": "code",
   "execution_count": 1,
   "metadata": {},
   "outputs": [],
   "source": [
    "class roc_auc:\n",
    "    \"\"\"\n",
    "    Calculate AUC score, Plot ROC curve\n",
    "    \"\"\"\n",
    "    \n",
    "    # instance attribute\n",
    "    def __init__(self, y_test, y_pred_prob, model='model'):\n",
    "        self.y_test = y_test\n",
    "        self.y_pred_prob = y_pred_prob\n",
    "        self.model = model\n",
    "        \n",
    "    # instance method\n",
    "    def auc(self):\n",
    "        \"\"\"\n",
    "        calculate auc score\n",
    "        \"\"\"\n",
    "        auc_score = roc_auc_score(self.y_test, self.y_pred_prob)\n",
    "        \n",
    "        return auc_score\n",
    "        \n",
    "    # instance method\n",
    "    def plot_roc(self):\n",
    "        \"\"\"\n",
    "        plot roc curve\n",
    "        \"\"\"\n",
    "        # AUC score\n",
    "        auc_score = roc_auc_score(self.y_test, self.y_pred_prob)\n",
    "        \n",
    "        # fpr, tpr, threshold\n",
    "        fpr, tpr, thresholds = roc_curve(self.y_test, self.y_pred_prob)\n",
    "        \n",
    "        # ROC curve plot\n",
    "        _ = plt.plot([0, 1], [0, 1], 'k--')\n",
    "        _ = plt.plot(fpr, tpr, label= self.model + ' Classifier (AUC = {: .2f})'.format(auc_score))\n",
    "        _ = plt.xlabel('False Positive Rate')\n",
    "        _ = plt.ylabel('True Positive Rate')\n",
    "        _ = plt.legend(loc='lower right')\n",
    "        _ = plt.title(self.model + ' Classifier ROC Curve')\n",
    "        _ = plt.show()"
   ]
  }
 ],
 "metadata": {
  "kernelspec": {
   "display_name": "Python 3",
   "language": "python",
   "name": "python3"
  },
  "language_info": {
   "codemirror_mode": {
    "name": "ipython",
    "version": 3
   },
   "file_extension": ".py",
   "mimetype": "text/x-python",
   "name": "python",
   "nbconvert_exporter": "python",
   "pygments_lexer": "ipython3",
   "version": "3.7.4"
  }
 },
 "nbformat": 4,
 "nbformat_minor": 2
}
